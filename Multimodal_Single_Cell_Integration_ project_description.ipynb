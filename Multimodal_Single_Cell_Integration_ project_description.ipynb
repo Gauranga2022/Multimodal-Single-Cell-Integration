{
  "nbformat": 4,
  "nbformat_minor": 0,
  "metadata": {
    "colab": {
      "provenance": [],
      "collapsed_sections": [
        "lIA7Cm5whZR8",
        "gTrJtIom9x3x"
      ],
      "authorship_tag": "ABX9TyObPWwY7env/Ykl9kfR6RPi",
      "include_colab_link": true
    },
    "kernelspec": {
      "name": "python3",
      "display_name": "Python 3"
    },
    "language_info": {
      "name": "python"
    }
  },
  "cells": [
    {
      "cell_type": "markdown",
      "metadata": {
        "id": "view-in-github",
        "colab_type": "text"
      },
      "source": [
        "<a href=\"https://colab.research.google.com/github/Gauranga2022/Multimodal-Single-Cell-Integration/blob/main/Multimodal_Single_Cell_Integration_%20project_description.ipynb\" target=\"_parent\"><img src=\"https://colab.research.google.com/assets/colab-badge.svg\" alt=\"Open In Colab\"/></a>"
      ]
    },
    {
      "cell_type": "markdown",
      "source": [
        "# Multimodal Single Cell Integration"
      ],
      "metadata": {
        "id": "IR3QKZWiAmdo"
      }
    },
    {
      "cell_type": "markdown",
      "source": [
        "### The dataset for this competition comprises single-cell multiomics data collected from mobilized peripheral CD34+ hematopoietic stem and progenitor cells (HSPCs) isolated from four healthy human donors. More information about the cells can be found on the [vendor website](https://allcells.com/research-grade-tissue-products/mobilized-leukopak/)"
      ],
      "metadata": {
        "id": "lIA7Cm5whZR8"
      }
    },
    {
      "cell_type": "markdown",
      "source": [
        "Explanation:\n",
        "\n",
        "The sentence describes the dataset used for a competition or study.\n",
        "\n",
        "The dataset includes single-cell multiomics data which means that multiple types of biological information were measured from individual cells. This can include genomic, transcriptomic, epigenomic, and proteomic data.\n",
        "\n",
        "Genomic data refers to information about an organism's genetic material, typically DNA. This can include the sequence of nucleotides that make up the DNA as well as any variations or mutations in that sequence.\n",
        "\n",
        "Transcriptomic data refers to information about the RNA molecules that are transcribed from the DNA. This can include the abundance and sequence of different types of RNA molecules, such as messenger RNA (mRNA), which is used to make proteins, and non-coding RNA, which plays a regulatory role in gene expression.\n",
        "\n",
        "Epigenomic data refers to information about chemical modifications to the DNA or associated proteins that affect gene expression without changing the underlying DNA sequence. These modifications can include DNA methylation, histone modifications, and chromatin accessibility.\n",
        "\n",
        "Proteomic data refers to information about the proteins present in a cell or tissue, including their abundance, post-translational modifications, and interactions with other molecules. Proteins are the workhorses of the cell, carrying out many essential functions such as catalyzing chemical reactions, transporting molecules across cell membranes, and regulating gene expression.\n",
        "\n"
      ],
      "metadata": {
        "id": "QHerJ64khvaD"
      }
    },
    {
      "cell_type": "markdown",
      "source": [
        "The data was collected from mobilized peripheral CD34+ hematopoietic stem and progenitor cells (HSPCs). HSPCs are a type of cell that can differentiate into many different types of blood cells. They are important for maintaining blood cell production in the body.\n",
        "\n",
        "Peripheral blood refers to the blood that circulates through the body, as opposed to blood from organs like the liver or spleen. Mobilized peripheral blood is blood that has been stimulated to release a larger number of hematopoietic stem and progenitor cells (HSPCs) into circulation.\n",
        "\n",
        "CD34+ cells are a subset of HSPCs that express a specific protein called CD34 on their surface. These cells have the potential to differentiate into many different types of blood cells, including red blood cells, white blood cells, and platelets.\n",
        "\n",
        "The data was collected from single cells, meaning that each cell was analyzed individually to generate the data. This allows researchers to study the genetic and molecular characteristics of individual cells, which can provide insights into cellular diversity and heterogeneity within a population.\n"
      ],
      "metadata": {
        "id": "b3uTlyCAh_Qi"
      }
    },
    {
      "cell_type": "markdown",
      "source": [
        "The cells were isolated from four healthy human donors. This means that the data comes from four different individuals who did not have any known health conditions that could affect the HSPCs. The use of healthy donors is common in medical research to establish a baseline for comparison to individuals with diseases or disorders.\n",
        "\n"
      ],
      "metadata": {
        "id": "-y7Y59EJ7I5v"
      }
    },
    {
      "cell_type": "markdown",
      "source": [
        "### Measurements were taken at five time points over a ten-day period. During this time, cells were cultured with StemSpan SFEM media supplemented with CC100 and thrombopoietin (TPO) and incubated at 37ºC. Media was changed every 2-3 days. No additional media supplements were added to the cell culture conditions."
      ],
      "metadata": {
        "id": "gTrJtIom9x3x"
      }
    },
    {
      "cell_type": "markdown",
      "source": [
        "Explanation:\n",
        "\n",
        "The measurements were taken at five time points over a ten-day period. This means that the cells were sampled or measured at five different time intervals, and these intervals were evenly spaced over a period of ten days.\n",
        "\n",
        "The cells were cultured with StemSpan SFEM media supplemented with CC100 and thrombopoietin (TPO). StemSpan SFEM is a type of cell culture media that is designed to support the growth and maintenance of hematopoietic stem and progenitor cells (HSPCs). CC100 is a type of cytokine (that promotes the growth and differentiation of) HSPCs, and thrombopoietin (TPO) is a hormone that regulates the production of platelets.\n",
        "\n",
        "The cells were incubated at 37ºC, which is the normal temperature of the human body, and the media was changed every 2-3 days. This ensures that the cells are maintained in an optimal environment for growth and survival.\n",
        "\n",
        "Finally, the sentence states that no additional media supplements were added to the cell culture conditions. This means that only StemSpan SFEM media, CC100, and TPO were used to support the growth and differentiation of the cells, and no other factors were added that could potentially affect the outcome of the experiment."
      ],
      "metadata": {
        "id": "WHVYdVRF983j"
      }
    },
    {
      "cell_type": "markdown",
      "source": [
        "### From each culture plate at each sampling time point, cells were collected for measurement with two single-cell assays. The first is the 10x Chromium Single Cell Multiome ATAC + Gene Expression technology (Multiome) and the second is the 10x Genomics Single Cell Gene Expression with Feature Barcoding technology technology using the TotalSeq™-B Human Universal Cocktail, V1.0 (CITEseq)."
      ],
      "metadata": {
        "id": "-Lwdtw_8_iQj"
      }
    },
    {
      "cell_type": "markdown",
      "source": [
        "From each culture plate at each sampling time point, cells were collected for measurement with two single-cell assays. This means that at each time point, cells were harvested from the culture plate and used for analysis using two different assays.\n",
        "\n",
        "The first assay is the 10x Chromium Single Cell Multiome ATAC + Gene Expression technology (Multiome). This technology allows for the simultaneous measurement of gene expression and chromatin accessibility at the single-cell level. This provides information on both the identity and regulatory state of individual cells.\n",
        "\n",
        "The second assay is the 10x Genomics Single Cell Gene Expression with Feature Barcoding technology using the TotalSeq™-B Human Universal Cocktail, V1.0 (CITEseq). This technology measures gene expression at the single-cell level using barcoded oligonucleotides that allow for the identification of individual cells and the measurement of multiple genes in each cell.\n",
        "\n",
        "Overall, these two assays provide complementary information about the molecular characteristics of the cells. The Multiome assay allows for the identification of cell types and the regulatory mechanisms that underlie their differentiation, while the CITEseq assay provides a high-resolution view of the gene expression patterns within individual cells. Together, these assays provide a detailed picture of the molecular landscape of the cells over time."
      ],
      "metadata": {
        "id": "mSPXD5oGWt9M"
      }
    },
    {
      "cell_type": "markdown",
      "source": [
        "### Each assay technology measures two modalities. The Multiome kit measures chromatin accessibility (DNA) and gene expression (RNA), while the CITEseq kit measures gene expression (RNA) and surface protein levels. Following the central dogma of molecular biology: DNA --> RNA-->Protein, your task is as follows: For the Multiome samples: given chromatin accessibility, predict gene expression. For the CITEseq samples: given gene expression, predict protein levels."
      ],
      "metadata": {
        "id": "6sLyMvQ6W2iC"
      }
    },
    {
      "cell_type": "markdown",
      "source": [
        "The paragraph is describing the two different assay technologies used in the study, and how they measure different aspects of cellular activity.\n",
        "\n",
        "The first assay technology, the Multiome kit, measures both chromatin accessibility (DNA) and gene expression (RNA) at the same time in single cells. Chromatin accessibility refers to how easily the DNA in the cell can be accessed and regulated by proteins, while gene expression measures how much RNA is being produced by the cell.\n",
        "\n",
        "The second assay technology, the CITEseq kit, measures gene expression (RNA) and surface protein levels at the same time in single cells. Surface protein levels refer to the amount of proteins that are located on the surface of the cell, which can play a role in cell-to-cell communication and signaling.\n",
        "\n",
        "The paragraph goes on to describe the task that needs to be accomplished with these data. Based on the central dogma of molecular biology, which states that DNA is transcribed into RNA, which is then translated into protein, the goal is to use the data collected from the Multiome and CITEseq assays to predict the levels of gene expression and protein production in the cells. Specifically, for the Multiome samples, the task is to predict gene expression based on chromatin accessibility measurements, while for the CITEseq samples, the task is to predict protein levels based on gene expression measurements.\n",
        "\n",
        "\n",
        "\n",
        "\n"
      ],
      "metadata": {
        "id": "b9_TjpwZfVmk"
      }
    },
    {
      "cell_type": "markdown",
      "source": [
        "### Splits\n",
        "### The data splits are arranged as follows:\n",
        "\n",
        "### The training set comprises samples only from donors 13176, 31800, and 32606. The public test set comprises samples only from donor 27678. The private test set comprises samples from all four donors.\n",
        "### For the Multiome samples, the training set comprises samples only from days 2, 3, 4, and 7. The public test set comprises samples only from days 2, 3, and 7. The private test set comprises data only from day 10.\n",
        "### For the CITEseq samples, the training set comprises samples only from days 2, 3, and 4. The public test set also comprises samples only from days 2, 3, and 4. The private test set comprises samples only from day 7. There are no day 10 CITEseq samples in any split."
      ],
      "metadata": {
        "id": "BJXBkKvggvmh"
      }
    },
    {
      "cell_type": "markdown",
      "source": [
        "For the first split, the training set includes samples only from three of the four donors, specifically donors 13176, 31800, and 32606. The public test set includes samples only from donor 27678, and the private test set includes samples from all four donors.\n",
        "\n",
        "For the Multiome samples, the training set includes samples from days 2, 3, 4, and 7. The public test set includes samples from days 2, 3, and 7, and the private test set includes samples only from day 10.\n",
        "\n",
        "For the CITEseq samples, the training set includes samples from days 2, 3, and 4. The public test set also includes samples from days 2, 3, and 4, and the private test set includes samples only from day 7. There are no day 10 CITEseq samples in any of the splits.\n",
        "\n",
        "These different data splits are used to train and test machine learning models to predict gene expression and protein levels from chromatin accessibility and gene expression data, respectively. By testing on data from unseen donors and time points, the models can be evaluated for their generalizability and ability to predict in new contexts."
      ],
      "metadata": {
        "id": "SI6tTRc-g3ix"
      }
    }
  ]
}