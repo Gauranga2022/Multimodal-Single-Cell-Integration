{
 "cells": [
  {
   "cell_type": "code",
   "execution_count": 1,
   "id": "33b87dbb",
   "metadata": {},
   "outputs": [
    {
     "data": {
      "text/plain": [
       "\"with h5py.File('test_cite_inputs_day_2_donor_27678.h5', 'r+') as hdf:\\n    base_items = list(hdf.items())\\n    print('items in the base_items directory:', base_items )\\n    G1 = hdf.get('train_multi_inputs')\\n    G1_items = list(G1.items())\\n    print('items in G1:', G1_items)\\n    block0_values = G1.get('block0_values')\\n    print('items in block0_values', block0_values)\\n    print(type(block0_values))\""
      ]
     },
     "execution_count": 1,
     "metadata": {},
     "output_type": "execute_result"
    }
   ],
   "source": [
    "with h5py.File('test_cite_inputs_day_2_donor_27678.h5', 'r+') as hdf:\n",
    "    base_items = list(hdf.items())\n",
    "    print('items in the base_items directory:', base_items )\n",
    "    G1 = hdf.get('train_multi_inputs')\n",
    "    G1_items = list(G1.items())\n",
    "    print('items in G1:', G1_items)\n",
    "    block0_values = G1.get('block0_values')\n",
    "    print('items in block0_values', block0_values)\n",
    "    print(type(block0_values))"
   ]
  },
  {
   "cell_type": "code",
   "execution_count": 4,
   "id": "3ed25580",
   "metadata": {},
   "outputs": [],
   "source": [
    "import pandas as pd\n",
    "import numpy as np\n",
    "from sklearn.linear_model import LogisticRegression, Lasso\n",
    "from sklearn.model_selection import GridSearchCV, cross_val_score\n",
    "from sklearn.metrics import r2_score, mean_squared_error, roc_auc_score\n",
    "import matplotlib.colors as mcolors\n",
    "import matplotlib.pyplot as plt\n",
    "import h5py\n",
    "import time"
   ]
  },
  {
   "cell_type": "code",
   "execution_count": 5,
   "id": "e677606a",
   "metadata": {},
   "outputs": [],
   "source": [
    "data = h5py.File('test_cite_inputs_day_2_donor_27678.h5', 'r+')"
   ]
  },
  {
   "cell_type": "code",
   "execution_count": 6,
   "id": "b8d7e07c",
   "metadata": {},
   "outputs": [
    {
     "data": {
      "text/plain": [
       "<KeysViewHDF5 ['test_cite_inputs_day_2_donor_27678']>"
      ]
     },
     "execution_count": 6,
     "metadata": {},
     "output_type": "execute_result"
    }
   ],
   "source": [
    "data.keys()"
   ]
  },
  {
   "cell_type": "code",
   "execution_count": 7,
   "id": "617c9efb",
   "metadata": {},
   "outputs": [
    {
     "data": {
      "text/html": [
       "<div>\n",
       "<style scoped>\n",
       "    .dataframe tbody tr th:only-of-type {\n",
       "        vertical-align: middle;\n",
       "    }\n",
       "\n",
       "    .dataframe tbody tr th {\n",
       "        vertical-align: top;\n",
       "    }\n",
       "\n",
       "    .dataframe thead th {\n",
       "        text-align: right;\n",
       "    }\n",
       "</style>\n",
       "<table border=\"1\" class=\"dataframe\">\n",
       "  <thead>\n",
       "    <tr style=\"text-align: right;\">\n",
       "      <th></th>\n",
       "      <th>day</th>\n",
       "      <th>donor</th>\n",
       "      <th>cell_type</th>\n",
       "      <th>technology</th>\n",
       "    </tr>\n",
       "    <tr>\n",
       "      <th>cell_id</th>\n",
       "      <th></th>\n",
       "      <th></th>\n",
       "      <th></th>\n",
       "      <th></th>\n",
       "    </tr>\n",
       "  </thead>\n",
       "  <tbody>\n",
       "    <tr>\n",
       "      <th>c2150f55becb</th>\n",
       "      <td>2</td>\n",
       "      <td>27678</td>\n",
       "      <td>HSC</td>\n",
       "      <td>citeseq</td>\n",
       "    </tr>\n",
       "    <tr>\n",
       "      <th>65b7edf8a4da</th>\n",
       "      <td>2</td>\n",
       "      <td>27678</td>\n",
       "      <td>HSC</td>\n",
       "      <td>citeseq</td>\n",
       "    </tr>\n",
       "    <tr>\n",
       "      <th>c1b26cb1057b</th>\n",
       "      <td>2</td>\n",
       "      <td>27678</td>\n",
       "      <td>EryP</td>\n",
       "      <td>citeseq</td>\n",
       "    </tr>\n",
       "    <tr>\n",
       "      <th>917168fa6f83</th>\n",
       "      <td>2</td>\n",
       "      <td>27678</td>\n",
       "      <td>NeuP</td>\n",
       "      <td>citeseq</td>\n",
       "    </tr>\n",
       "    <tr>\n",
       "      <th>2b29feeca86d</th>\n",
       "      <td>2</td>\n",
       "      <td>27678</td>\n",
       "      <td>EryP</td>\n",
       "      <td>citeseq</td>\n",
       "    </tr>\n",
       "    <tr>\n",
       "      <th>...</th>\n",
       "      <td>...</td>\n",
       "      <td>...</td>\n",
       "      <td>...</td>\n",
       "      <td>...</td>\n",
       "    </tr>\n",
       "    <tr>\n",
       "      <th>96a60b026659</th>\n",
       "      <td>10</td>\n",
       "      <td>31800</td>\n",
       "      <td>hidden</td>\n",
       "      <td>multiome</td>\n",
       "    </tr>\n",
       "    <tr>\n",
       "      <th>d493e546991e</th>\n",
       "      <td>10</td>\n",
       "      <td>31800</td>\n",
       "      <td>hidden</td>\n",
       "      <td>multiome</td>\n",
       "    </tr>\n",
       "    <tr>\n",
       "      <th>05666c99aa48</th>\n",
       "      <td>10</td>\n",
       "      <td>31800</td>\n",
       "      <td>hidden</td>\n",
       "      <td>multiome</td>\n",
       "    </tr>\n",
       "    <tr>\n",
       "      <th>121f946642b5</th>\n",
       "      <td>10</td>\n",
       "      <td>31800</td>\n",
       "      <td>hidden</td>\n",
       "      <td>multiome</td>\n",
       "    </tr>\n",
       "    <tr>\n",
       "      <th>b847ba21f59f</th>\n",
       "      <td>10</td>\n",
       "      <td>31800</td>\n",
       "      <td>hidden</td>\n",
       "      <td>multiome</td>\n",
       "    </tr>\n",
       "  </tbody>\n",
       "</table>\n",
       "<p>281528 rows × 4 columns</p>\n",
       "</div>"
      ],
      "text/plain": [
       "              day  donor cell_type technology\n",
       "cell_id                                      \n",
       "c2150f55becb    2  27678       HSC    citeseq\n",
       "65b7edf8a4da    2  27678       HSC    citeseq\n",
       "c1b26cb1057b    2  27678      EryP    citeseq\n",
       "917168fa6f83    2  27678      NeuP    citeseq\n",
       "2b29feeca86d    2  27678      EryP    citeseq\n",
       "...           ...    ...       ...        ...\n",
       "96a60b026659   10  31800    hidden   multiome\n",
       "d493e546991e   10  31800    hidden   multiome\n",
       "05666c99aa48   10  31800    hidden   multiome\n",
       "121f946642b5   10  31800    hidden   multiome\n",
       "b847ba21f59f   10  31800    hidden   multiome\n",
       "\n",
       "[281528 rows x 4 columns]"
      ]
     },
     "metadata": {},
     "output_type": "display_data"
    }
   ],
   "source": [
    "meta_df = pd.read_csv('metadata.csv', index_col = 0)\n",
    "display(meta_df) "
   ]
  },
  {
   "cell_type": "code",
   "execution_count": 8,
   "id": "425356d7",
   "metadata": {},
   "outputs": [],
   "source": [
    "#import multiprocessing as mp\n",
    "#print('number of cores:', mp.cpu_count())"
   ]
  },
  {
   "cell_type": "code",
   "execution_count": 9,
   "id": "f1f69623",
   "metadata": {},
   "outputs": [
    {
     "data": {
      "text/html": [
       "<div>\n",
       "<style scoped>\n",
       "    .dataframe tbody tr th:only-of-type {\n",
       "        vertical-align: middle;\n",
       "    }\n",
       "\n",
       "    .dataframe tbody tr th {\n",
       "        vertical-align: top;\n",
       "    }\n",
       "\n",
       "    .dataframe thead th {\n",
       "        text-align: right;\n",
       "    }\n",
       "</style>\n",
       "<table border=\"1\" class=\"dataframe\">\n",
       "  <thead>\n",
       "    <tr style=\"text-align: right;\">\n",
       "      <th>gene_id</th>\n",
       "      <th>ENSG00000121410</th>\n",
       "      <th>ENSG00000268895</th>\n",
       "      <th>ENSG00000175899</th>\n",
       "      <th>ENSG00000245105</th>\n",
       "      <th>ENSG00000166535</th>\n",
       "      <th>ENSG00000256661</th>\n",
       "      <th>ENSG00000184389</th>\n",
       "      <th>ENSG00000128274</th>\n",
       "      <th>ENSG00000094914</th>\n",
       "      <th>ENSG00000081760</th>\n",
       "      <th>...</th>\n",
       "      <th>ENSG00000086827</th>\n",
       "      <th>ENSG00000174442</th>\n",
       "      <th>ENSG00000122952</th>\n",
       "      <th>ENSG00000198205</th>\n",
       "      <th>ENSG00000198455</th>\n",
       "      <th>ENSG00000070476</th>\n",
       "      <th>ENSG00000203995</th>\n",
       "      <th>ENSG00000162378</th>\n",
       "      <th>ENSG00000159840</th>\n",
       "      <th>ENSG00000074755</th>\n",
       "    </tr>\n",
       "    <tr>\n",
       "      <th>cell_id</th>\n",
       "      <th></th>\n",
       "      <th></th>\n",
       "      <th></th>\n",
       "      <th></th>\n",
       "      <th></th>\n",
       "      <th></th>\n",
       "      <th></th>\n",
       "      <th></th>\n",
       "      <th></th>\n",
       "      <th></th>\n",
       "      <th></th>\n",
       "      <th></th>\n",
       "      <th></th>\n",
       "      <th></th>\n",
       "      <th></th>\n",
       "      <th></th>\n",
       "      <th></th>\n",
       "      <th></th>\n",
       "      <th></th>\n",
       "      <th></th>\n",
       "      <th></th>\n",
       "    </tr>\n",
       "  </thead>\n",
       "  <tbody>\n",
       "    <tr>\n",
       "      <th>56390cf1b95e</th>\n",
       "      <td>0.0</td>\n",
       "      <td>0.000000</td>\n",
       "      <td>0.0</td>\n",
       "      <td>0.0</td>\n",
       "      <td>0.0</td>\n",
       "      <td>0.0</td>\n",
       "      <td>0.0</td>\n",
       "      <td>0.0</td>\n",
       "      <td>0.0</td>\n",
       "      <td>0.0</td>\n",
       "      <td>...</td>\n",
       "      <td>0.000000</td>\n",
       "      <td>0.000000</td>\n",
       "      <td>4.893861</td>\n",
       "      <td>0.0</td>\n",
       "      <td>0.0</td>\n",
       "      <td>0.000000</td>\n",
       "      <td>0.0</td>\n",
       "      <td>5.583255</td>\n",
       "      <td>0.000000</td>\n",
       "      <td>4.893861</td>\n",
       "    </tr>\n",
       "    <tr>\n",
       "      <th>fc0c60183c33</th>\n",
       "      <td>0.0</td>\n",
       "      <td>0.000000</td>\n",
       "      <td>0.0</td>\n",
       "      <td>0.0</td>\n",
       "      <td>0.0</td>\n",
       "      <td>0.0</td>\n",
       "      <td>0.0</td>\n",
       "      <td>0.0</td>\n",
       "      <td>0.0</td>\n",
       "      <td>0.0</td>\n",
       "      <td>...</td>\n",
       "      <td>0.000000</td>\n",
       "      <td>0.000000</td>\n",
       "      <td>0.000000</td>\n",
       "      <td>0.0</td>\n",
       "      <td>0.0</td>\n",
       "      <td>0.000000</td>\n",
       "      <td>0.0</td>\n",
       "      <td>0.000000</td>\n",
       "      <td>0.000000</td>\n",
       "      <td>0.000000</td>\n",
       "    </tr>\n",
       "    <tr>\n",
       "      <th>9b4a87e22ad0</th>\n",
       "      <td>0.0</td>\n",
       "      <td>0.000000</td>\n",
       "      <td>0.0</td>\n",
       "      <td>0.0</td>\n",
       "      <td>0.0</td>\n",
       "      <td>0.0</td>\n",
       "      <td>0.0</td>\n",
       "      <td>0.0</td>\n",
       "      <td>0.0</td>\n",
       "      <td>0.0</td>\n",
       "      <td>...</td>\n",
       "      <td>0.000000</td>\n",
       "      <td>0.000000</td>\n",
       "      <td>5.107832</td>\n",
       "      <td>0.0</td>\n",
       "      <td>0.0</td>\n",
       "      <td>0.000000</td>\n",
       "      <td>0.0</td>\n",
       "      <td>0.000000</td>\n",
       "      <td>0.000000</td>\n",
       "      <td>5.107832</td>\n",
       "    </tr>\n",
       "    <tr>\n",
       "      <th>81cccad8cd81</th>\n",
       "      <td>0.0</td>\n",
       "      <td>4.507936</td>\n",
       "      <td>0.0</td>\n",
       "      <td>0.0</td>\n",
       "      <td>0.0</td>\n",
       "      <td>0.0</td>\n",
       "      <td>0.0</td>\n",
       "      <td>0.0</td>\n",
       "      <td>0.0</td>\n",
       "      <td>0.0</td>\n",
       "      <td>...</td>\n",
       "      <td>0.000000</td>\n",
       "      <td>5.195558</td>\n",
       "      <td>4.507936</td>\n",
       "      <td>0.0</td>\n",
       "      <td>0.0</td>\n",
       "      <td>0.000000</td>\n",
       "      <td>0.0</td>\n",
       "      <td>0.000000</td>\n",
       "      <td>0.000000</td>\n",
       "      <td>5.195558</td>\n",
       "    </tr>\n",
       "    <tr>\n",
       "      <th>15cb3d85c232</th>\n",
       "      <td>0.0</td>\n",
       "      <td>0.000000</td>\n",
       "      <td>0.0</td>\n",
       "      <td>0.0</td>\n",
       "      <td>0.0</td>\n",
       "      <td>0.0</td>\n",
       "      <td>0.0</td>\n",
       "      <td>0.0</td>\n",
       "      <td>0.0</td>\n",
       "      <td>0.0</td>\n",
       "      <td>...</td>\n",
       "      <td>0.000000</td>\n",
       "      <td>0.000000</td>\n",
       "      <td>0.000000</td>\n",
       "      <td>0.0</td>\n",
       "      <td>0.0</td>\n",
       "      <td>5.531572</td>\n",
       "      <td>0.0</td>\n",
       "      <td>0.000000</td>\n",
       "      <td>4.842377</td>\n",
       "      <td>0.000000</td>\n",
       "    </tr>\n",
       "    <tr>\n",
       "      <th>...</th>\n",
       "      <td>...</td>\n",
       "      <td>...</td>\n",
       "      <td>...</td>\n",
       "      <td>...</td>\n",
       "      <td>...</td>\n",
       "      <td>...</td>\n",
       "      <td>...</td>\n",
       "      <td>...</td>\n",
       "      <td>...</td>\n",
       "      <td>...</td>\n",
       "      <td>...</td>\n",
       "      <td>...</td>\n",
       "      <td>...</td>\n",
       "      <td>...</td>\n",
       "      <td>...</td>\n",
       "      <td>...</td>\n",
       "      <td>...</td>\n",
       "      <td>...</td>\n",
       "      <td>...</td>\n",
       "      <td>...</td>\n",
       "      <td>...</td>\n",
       "    </tr>\n",
       "    <tr>\n",
       "      <th>063cead1a4ea</th>\n",
       "      <td>0.0</td>\n",
       "      <td>0.000000</td>\n",
       "      <td>0.0</td>\n",
       "      <td>0.0</td>\n",
       "      <td>0.0</td>\n",
       "      <td>0.0</td>\n",
       "      <td>0.0</td>\n",
       "      <td>0.0</td>\n",
       "      <td>0.0</td>\n",
       "      <td>0.0</td>\n",
       "      <td>...</td>\n",
       "      <td>0.000000</td>\n",
       "      <td>0.000000</td>\n",
       "      <td>0.000000</td>\n",
       "      <td>0.0</td>\n",
       "      <td>0.0</td>\n",
       "      <td>5.829234</td>\n",
       "      <td>0.0</td>\n",
       "      <td>0.000000</td>\n",
       "      <td>0.000000</td>\n",
       "      <td>5.139023</td>\n",
       "    </tr>\n",
       "    <tr>\n",
       "      <th>553bca99ba78</th>\n",
       "      <td>0.0</td>\n",
       "      <td>0.000000</td>\n",
       "      <td>0.0</td>\n",
       "      <td>0.0</td>\n",
       "      <td>0.0</td>\n",
       "      <td>0.0</td>\n",
       "      <td>0.0</td>\n",
       "      <td>0.0</td>\n",
       "      <td>0.0</td>\n",
       "      <td>0.0</td>\n",
       "      <td>...</td>\n",
       "      <td>5.091473</td>\n",
       "      <td>0.000000</td>\n",
       "      <td>5.091473</td>\n",
       "      <td>0.0</td>\n",
       "      <td>0.0</td>\n",
       "      <td>5.091473</td>\n",
       "      <td>0.0</td>\n",
       "      <td>0.000000</td>\n",
       "      <td>5.091473</td>\n",
       "      <td>0.000000</td>\n",
       "    </tr>\n",
       "    <tr>\n",
       "      <th>00783f28b463</th>\n",
       "      <td>0.0</td>\n",
       "      <td>0.000000</td>\n",
       "      <td>0.0</td>\n",
       "      <td>0.0</td>\n",
       "      <td>0.0</td>\n",
       "      <td>0.0</td>\n",
       "      <td>0.0</td>\n",
       "      <td>0.0</td>\n",
       "      <td>0.0</td>\n",
       "      <td>0.0</td>\n",
       "      <td>...</td>\n",
       "      <td>0.000000</td>\n",
       "      <td>0.000000</td>\n",
       "      <td>0.000000</td>\n",
       "      <td>0.0</td>\n",
       "      <td>0.0</td>\n",
       "      <td>4.500950</td>\n",
       "      <td>0.0</td>\n",
       "      <td>0.000000</td>\n",
       "      <td>0.000000</td>\n",
       "      <td>0.000000</td>\n",
       "    </tr>\n",
       "    <tr>\n",
       "      <th>e7abb1a0f251</th>\n",
       "      <td>0.0</td>\n",
       "      <td>0.000000</td>\n",
       "      <td>0.0</td>\n",
       "      <td>0.0</td>\n",
       "      <td>0.0</td>\n",
       "      <td>0.0</td>\n",
       "      <td>0.0</td>\n",
       "      <td>0.0</td>\n",
       "      <td>0.0</td>\n",
       "      <td>0.0</td>\n",
       "      <td>...</td>\n",
       "      <td>0.000000</td>\n",
       "      <td>0.000000</td>\n",
       "      <td>0.000000</td>\n",
       "      <td>0.0</td>\n",
       "      <td>0.0</td>\n",
       "      <td>0.000000</td>\n",
       "      <td>0.0</td>\n",
       "      <td>4.871117</td>\n",
       "      <td>0.000000</td>\n",
       "      <td>0.000000</td>\n",
       "    </tr>\n",
       "    <tr>\n",
       "      <th>193992d571a5</th>\n",
       "      <td>0.0</td>\n",
       "      <td>0.000000</td>\n",
       "      <td>0.0</td>\n",
       "      <td>0.0</td>\n",
       "      <td>0.0</td>\n",
       "      <td>0.0</td>\n",
       "      <td>0.0</td>\n",
       "      <td>0.0</td>\n",
       "      <td>0.0</td>\n",
       "      <td>0.0</td>\n",
       "      <td>...</td>\n",
       "      <td>0.000000</td>\n",
       "      <td>0.000000</td>\n",
       "      <td>0.000000</td>\n",
       "      <td>0.0</td>\n",
       "      <td>0.0</td>\n",
       "      <td>0.000000</td>\n",
       "      <td>0.0</td>\n",
       "      <td>5.659341</td>\n",
       "      <td>0.000000</td>\n",
       "      <td>0.000000</td>\n",
       "    </tr>\n",
       "  </tbody>\n",
       "</table>\n",
       "<p>105942 rows × 23418 columns</p>\n",
       "</div>"
      ],
      "text/plain": [
       "gene_id       ENSG00000121410  ENSG00000268895  ENSG00000175899  \\\n",
       "cell_id                                                           \n",
       "56390cf1b95e              0.0         0.000000              0.0   \n",
       "fc0c60183c33              0.0         0.000000              0.0   \n",
       "9b4a87e22ad0              0.0         0.000000              0.0   \n",
       "81cccad8cd81              0.0         4.507936              0.0   \n",
       "15cb3d85c232              0.0         0.000000              0.0   \n",
       "...                       ...              ...              ...   \n",
       "063cead1a4ea              0.0         0.000000              0.0   \n",
       "553bca99ba78              0.0         0.000000              0.0   \n",
       "00783f28b463              0.0         0.000000              0.0   \n",
       "e7abb1a0f251              0.0         0.000000              0.0   \n",
       "193992d571a5              0.0         0.000000              0.0   \n",
       "\n",
       "gene_id       ENSG00000245105  ENSG00000166535  ENSG00000256661  \\\n",
       "cell_id                                                           \n",
       "56390cf1b95e              0.0              0.0              0.0   \n",
       "fc0c60183c33              0.0              0.0              0.0   \n",
       "9b4a87e22ad0              0.0              0.0              0.0   \n",
       "81cccad8cd81              0.0              0.0              0.0   \n",
       "15cb3d85c232              0.0              0.0              0.0   \n",
       "...                       ...              ...              ...   \n",
       "063cead1a4ea              0.0              0.0              0.0   \n",
       "553bca99ba78              0.0              0.0              0.0   \n",
       "00783f28b463              0.0              0.0              0.0   \n",
       "e7abb1a0f251              0.0              0.0              0.0   \n",
       "193992d571a5              0.0              0.0              0.0   \n",
       "\n",
       "gene_id       ENSG00000184389  ENSG00000128274  ENSG00000094914  \\\n",
       "cell_id                                                           \n",
       "56390cf1b95e              0.0              0.0              0.0   \n",
       "fc0c60183c33              0.0              0.0              0.0   \n",
       "9b4a87e22ad0              0.0              0.0              0.0   \n",
       "81cccad8cd81              0.0              0.0              0.0   \n",
       "15cb3d85c232              0.0              0.0              0.0   \n",
       "...                       ...              ...              ...   \n",
       "063cead1a4ea              0.0              0.0              0.0   \n",
       "553bca99ba78              0.0              0.0              0.0   \n",
       "00783f28b463              0.0              0.0              0.0   \n",
       "e7abb1a0f251              0.0              0.0              0.0   \n",
       "193992d571a5              0.0              0.0              0.0   \n",
       "\n",
       "gene_id       ENSG00000081760  ...  ENSG00000086827  ENSG00000174442  \\\n",
       "cell_id                        ...                                     \n",
       "56390cf1b95e              0.0  ...         0.000000         0.000000   \n",
       "fc0c60183c33              0.0  ...         0.000000         0.000000   \n",
       "9b4a87e22ad0              0.0  ...         0.000000         0.000000   \n",
       "81cccad8cd81              0.0  ...         0.000000         5.195558   \n",
       "15cb3d85c232              0.0  ...         0.000000         0.000000   \n",
       "...                       ...  ...              ...              ...   \n",
       "063cead1a4ea              0.0  ...         0.000000         0.000000   \n",
       "553bca99ba78              0.0  ...         5.091473         0.000000   \n",
       "00783f28b463              0.0  ...         0.000000         0.000000   \n",
       "e7abb1a0f251              0.0  ...         0.000000         0.000000   \n",
       "193992d571a5              0.0  ...         0.000000         0.000000   \n",
       "\n",
       "gene_id       ENSG00000122952  ENSG00000198205  ENSG00000198455  \\\n",
       "cell_id                                                           \n",
       "56390cf1b95e         4.893861              0.0              0.0   \n",
       "fc0c60183c33         0.000000              0.0              0.0   \n",
       "9b4a87e22ad0         5.107832              0.0              0.0   \n",
       "81cccad8cd81         4.507936              0.0              0.0   \n",
       "15cb3d85c232         0.000000              0.0              0.0   \n",
       "...                       ...              ...              ...   \n",
       "063cead1a4ea         0.000000              0.0              0.0   \n",
       "553bca99ba78         5.091473              0.0              0.0   \n",
       "00783f28b463         0.000000              0.0              0.0   \n",
       "e7abb1a0f251         0.000000              0.0              0.0   \n",
       "193992d571a5         0.000000              0.0              0.0   \n",
       "\n",
       "gene_id       ENSG00000070476  ENSG00000203995  ENSG00000162378  \\\n",
       "cell_id                                                           \n",
       "56390cf1b95e         0.000000              0.0         5.583255   \n",
       "fc0c60183c33         0.000000              0.0         0.000000   \n",
       "9b4a87e22ad0         0.000000              0.0         0.000000   \n",
       "81cccad8cd81         0.000000              0.0         0.000000   \n",
       "15cb3d85c232         5.531572              0.0         0.000000   \n",
       "...                       ...              ...              ...   \n",
       "063cead1a4ea         5.829234              0.0         0.000000   \n",
       "553bca99ba78         5.091473              0.0         0.000000   \n",
       "00783f28b463         4.500950              0.0         0.000000   \n",
       "e7abb1a0f251         0.000000              0.0         4.871117   \n",
       "193992d571a5         0.000000              0.0         5.659341   \n",
       "\n",
       "gene_id       ENSG00000159840  ENSG00000074755  \n",
       "cell_id                                         \n",
       "56390cf1b95e         0.000000         4.893861  \n",
       "fc0c60183c33         0.000000         0.000000  \n",
       "9b4a87e22ad0         0.000000         5.107832  \n",
       "81cccad8cd81         0.000000         5.195558  \n",
       "15cb3d85c232         4.842377         0.000000  \n",
       "...                       ...              ...  \n",
       "063cead1a4ea         0.000000         5.139023  \n",
       "553bca99ba78         5.091473         0.000000  \n",
       "00783f28b463         0.000000         0.000000  \n",
       "e7abb1a0f251         0.000000         0.000000  \n",
       "193992d571a5         0.000000         0.000000  \n",
       "\n",
       "[105942 rows x 23418 columns]"
      ]
     },
     "metadata": {},
     "output_type": "display_data"
    }
   ],
   "source": [
    "X = pd.read_hdf('train_multi_targets.h5') \n",
    "display(X)"
   ]
  },
  {
   "cell_type": "code",
   "execution_count": 10,
   "id": "593156df",
   "metadata": {},
   "outputs": [
    {
     "name": "stdout",
     "output_type": "stream",
     "text": [
      "              sex_Female  sex_Male\n",
      "cell_id                           \n",
      "56390cf1b95e           0         1\n",
      "fc0c60183c33           0         1\n",
      "9b4a87e22ad0           0         1\n",
      "81cccad8cd81           0         1\n",
      "15cb3d85c232           0         1\n",
      "...                  ...       ...\n",
      "063cead1a4ea           0         1\n",
      "553bca99ba78           0         1\n",
      "00783f28b463           0         1\n",
      "e7abb1a0f251           0         1\n",
      "193992d571a5           0         1\n",
      "\n",
      "[105942 rows x 2 columns] <class 'pandas.core.frame.DataFrame'>\n"
     ]
    }
   ],
   "source": [
    "meta_df['sex'] = np.where(meta_df['donor'] > 30000, 'Male', 'Female')  #(1)\n",
    "y = meta_df[meta_df.index.isin(X.index)].set_index(X.index)[['sex']]   #(2)\n",
    "y = pd.get_dummies(y)\n",
    "print(y, type(y))"
   ]
  },
  {
   "cell_type": "code",
   "execution_count": 11,
   "id": "37964c78",
   "metadata": {
    "scrolled": true
   },
   "outputs": [
    {
     "data": {
      "text/plain": [
       "\"(1) \\nIn this line, you are adding a new column named 'sex' to the meta_df DataFrame. \\nThe values in the 'sex' column are assigned based on a condition: if the value in the 'donor' column is \\ngreater than 30000, it assigns 'Male', otherwise 'Female'. \\nThis line essentially creates a binary gender classification based on the 'donor' column.\""
      ]
     },
     "execution_count": 11,
     "metadata": {},
     "output_type": "execute_result"
    }
   ],
   "source": [
    "'''(1) \n",
    "In this line, you are adding a new column named 'sex' to the meta_df DataFrame. \n",
    "The values in the 'sex' column are assigned based on a condition: if the value in the 'donor' column is \n",
    "greater than 30000, it assigns 'Male', otherwise 'Female'. \n",
    "This line essentially creates a binary gender classification based on the 'donor' column.'''"
   ]
  },
  {
   "cell_type": "code",
   "execution_count": 12,
   "id": "91fee6e3",
   "metadata": {},
   "outputs": [
    {
     "data": {
      "text/plain": [
       "\"#(2)\\nThis line filters the meta_df DataFrame based on the indices that are present in the 'X' DataFrame. It retrieves \\nthe rows from meta_df whose indices match with 'X' and selects only the 'sex' column. The resulting DataFrame \\nis assigned to the 'y' variable.\""
      ]
     },
     "execution_count": 12,
     "metadata": {},
     "output_type": "execute_result"
    }
   ],
   "source": [
    "'''#(2)\n",
    "This line filters the meta_df DataFrame based on the indices that are present in the 'X' DataFrame. It retrieves \n",
    "the rows from meta_df whose indices match with 'X' and selects only the 'sex' column. The resulting DataFrame \n",
    "is assigned to the 'y' variable.'''"
   ]
  },
  {
   "cell_type": "code",
   "execution_count": 13,
   "id": "f031c246",
   "metadata": {},
   "outputs": [
    {
     "data": {
      "text/plain": [
       "\"#(3)\\nThis line applies one-hot encoding to the 'y' DataFrame using the pd.get_dummies() function. It converts the \\ncategorical variable 'sex' into binary columns, where each unique category becomes a separate column with binary \\nvalues (0 or 1) indicating the presence or absence of that category.\""
      ]
     },
     "execution_count": 13,
     "metadata": {},
     "output_type": "execute_result"
    }
   ],
   "source": [
    "'''#(3)\n",
    "This line applies one-hot encoding to the 'y' DataFrame using the pd.get_dummies() function. It converts the \n",
    "categorical variable 'sex' into binary columns, where each unique category becomes a separate column with binary \n",
    "values (0 or 1) indicating the presence or absence of that category.'''"
   ]
  },
  {
   "cell_type": "code",
   "execution_count": 14,
   "id": "0c18128f",
   "metadata": {},
   "outputs": [
    {
     "data": {
      "text/plain": [
       "Index(['ENSG00000121410', 'ENSG00000268895', 'ENSG00000175899',\n",
       "       'ENSG00000245105', 'ENSG00000166535', 'ENSG00000256661',\n",
       "       'ENSG00000184389', 'ENSG00000128274', 'ENSG00000094914',\n",
       "       'ENSG00000081760',\n",
       "       ...\n",
       "       'ENSG00000086827', 'ENSG00000174442', 'ENSG00000122952',\n",
       "       'ENSG00000198205', 'ENSG00000198455', 'ENSG00000070476',\n",
       "       'ENSG00000203995', 'ENSG00000162378', 'ENSG00000159840',\n",
       "       'ENSG00000074755'],\n",
       "      dtype='object', name='gene_id', length=23418)"
      ]
     },
     "execution_count": 14,
     "metadata": {},
     "output_type": "execute_result"
    }
   ],
   "source": [
    "rna_index = X.columns\n",
    "rna_index"
   ]
  },
  {
   "cell_type": "code",
   "execution_count": 15,
   "id": "49eb1be4",
   "metadata": {},
   "outputs": [
    {
     "name": "stdout",
     "output_type": "stream",
     "text": [
      "(105942,) <class 'numpy.ndarray'>\n"
     ]
    }
   ],
   "source": [
    "y = y['sex_Male'].values\n",
    "print(y.shape, type(y))"
   ]
  },
  {
   "cell_type": "code",
   "execution_count": 16,
   "id": "6c8f3291",
   "metadata": {},
   "outputs": [
    {
     "ename": "IndexError",
     "evalue": "only integers, slices (`:`), ellipsis (`...`), numpy.newaxis (`None`) and integer or boolean arrays are valid indices",
     "output_type": "error",
     "traceback": [
      "\u001b[0;31m---------------------------------------------------------------------------\u001b[0m",
      "\u001b[0;31mIndexError\u001b[0m                                Traceback (most recent call last)",
      "Cell \u001b[0;32mIn[16], line 1\u001b[0m\n\u001b[0;32m----> 1\u001b[0m z \u001b[38;5;241m=\u001b[39m \u001b[43my\u001b[49m\u001b[43m[\u001b[49m\u001b[38;5;124;43m'\u001b[39;49m\u001b[38;5;124;43msex_Female\u001b[39;49m\u001b[38;5;124;43m'\u001b[39;49m\u001b[43m]\u001b[49m\u001b[38;5;241m.\u001b[39mvalues\n\u001b[1;32m      2\u001b[0m \u001b[38;5;28mprint\u001b[39m(z\u001b[38;5;241m.\u001b[39mshape, \u001b[38;5;28mtype\u001b[39m(y))\n",
      "\u001b[0;31mIndexError\u001b[0m: only integers, slices (`:`), ellipsis (`...`), numpy.newaxis (`None`) and integer or boolean arrays are valid indices"
     ]
    }
   ],
   "source": [
    "z = y['sex_Female'].values\n",
    "print(z.shape, type(y))"
   ]
  },
  {
   "cell_type": "code",
   "execution_count": 17,
   "id": "7b451330",
   "metadata": {},
   "outputs": [
    {
     "name": "stdout",
     "output_type": "stream",
     "text": [
      "(105942, 23418) <class 'numpy.ndarray'>\n"
     ]
    }
   ],
   "source": [
    "X = X.values\n",
    "print(X.shape, type(X))"
   ]
  },
  {
   "cell_type": "code",
   "execution_count": 18,
   "id": "d8a31ce0",
   "metadata": {},
   "outputs": [
    {
     "name": "stdout",
     "output_type": "stream",
     "text": [
      "(105942, 23418)\n"
     ]
    }
   ],
   "source": [
    "from sklearn.preprocessing import StandardScaler\n",
    "scaler = StandardScaler()\n",
    "X = scaler.fit_transform(X)\n",
    "print(X.shape)"
   ]
  },
  {
   "cell_type": "code",
   "execution_count": 19,
   "id": "dbe6e0cf",
   "metadata": {},
   "outputs": [
    {
     "data": {
      "text/plain": [
       "499"
      ]
     },
     "execution_count": 19,
     "metadata": {},
     "output_type": "execute_result"
    }
   ],
   "source": [
    "import gc\n",
    "gc.collect()"
   ]
  },
  {
   "cell_type": "code",
   "execution_count": 20,
   "id": "47fc732f",
   "metadata": {},
   "outputs": [
    {
     "data": {
      "text/plain": [
       "\"In the code snippet provided, gc.collect() is called after importing the gc module. Here's an explanation of what \\nthis code does:\\n\\ngc stands for the garbage collector module in Python. The garbage collector is responsible for automatically \\nreclaiming memory that is no longer in use by the program, freeing up resources and preventing memory leaks.\\nBy calling gc.collect(), you are explicitly triggering a garbage collection cycle. This forces the garbage \\ncollector to run and attempt to reclaim memory that is no longer needed.\\n\\nThe purpose of explicitly calling gc.collect() is to request an immediate garbage collection cycle and potentially \\nfree up memory that may have been allocated by previous operations or variables that are no longer in use.\\n\\nIt's worth noting that in most cases, Python's garbage collector manages memory automatically and efficiently \\nwithout the need for manual intervention. However, in certain situations, explicitly calling gc.collect() can be \\nuseful, especially when dealing with large datasets or when you want to ensure timely release of memory.\\n\\nIt's important to use gc.collect() judiciously and only when necessary. Unnecessary or frequent calls to gc.collect() \\nmay introduce performance overhead. In general, it is recommended to let the garbage collector handle memory \\nmanagement automatically, unless you have specific memory-related concerns or requirements.\""
      ]
     },
     "execution_count": 20,
     "metadata": {},
     "output_type": "execute_result"
    }
   ],
   "source": [
    "'''In the code snippet provided, gc.collect() is called after importing the gc module. Here's an explanation of what \n",
    "this code does:\n",
    "\n",
    "gc stands for the garbage collector module in Python. The garbage collector is responsible for automatically \n",
    "reclaiming memory that is no longer in use by the program, freeing up resources and preventing memory leaks.\n",
    "By calling gc.collect(), you are explicitly triggering a garbage collection cycle. This forces the garbage \n",
    "collector to run and attempt to reclaim memory that is no longer needed.\n",
    "\n",
    "The purpose of explicitly calling gc.collect() is to request an immediate garbage collection cycle and potentially \n",
    "free up memory that may have been allocated by previous operations or variables that are no longer in use.\n",
    "\n",
    "It's worth noting that in most cases, Python's garbage collector manages memory automatically and efficiently \n",
    "without the need for manual intervention. However, in certain situations, explicitly calling gc.collect() can be \n",
    "useful, especially when dealing with large datasets or when you want to ensure timely release of memory.\n",
    "\n",
    "It's important to use gc.collect() judiciously and only when necessary. Unnecessary or frequent calls to gc.collect() \n",
    "may introduce performance overhead. In general, it is recommended to let the garbage collector handle memory \n",
    "management automatically, unless you have specific memory-related concerns or requirements.'''"
   ]
  },
  {
   "cell_type": "code",
   "execution_count": 21,
   "id": "8785035e",
   "metadata": {},
   "outputs": [
    {
     "name": "stdout",
     "output_type": "stream",
     "text": [
      "X.shape, y.shape: (105942, 23418) (105942,) train_size: 0.7\n",
      " len(IX_train), len(IX_test): 74159 31783\n"
     ]
    }
   ],
   "source": [
    "train_size = 0.7\n",
    "print('X.shape, y.shape:', X.shape, y.shape, 'train_size:', train_size)\n",
    "\n",
    "\n",
    "p = np.random.permutation(len(y))                                     #1\n",
    "N = int(len(y) *  train_size)                                         #2\n",
    "IX_train = np.arange(len(y))[p][:N]                                   #3\n",
    "IX_test =  np.arange(len(y))[p][N:] \n",
    "print(\" len(IX_train), len(IX_test):\",  len(IX_train), len(IX_test) ) #4"
   ]
  },
  {
   "cell_type": "code",
   "execution_count": 22,
   "id": "32401130",
   "metadata": {},
   "outputs": [
    {
     "data": {
      "text/plain": [
       "' \\n\\n#1 This line generates a random permutation of integers from 0 to the length of the array y. The permutation is \\ncreated using the np.random.permutation() function from the NumPy library. This random permutation is typically \\nused for shuffling the indices of the data to create a randomized order.\\n\\n#2 This line calculates the number of samples to be included in the training set. It multiplies the length of the \\narray y by the train_size (variable) (which is set to 0.7 in this case) and converts the result to an integer using \\nthe int() function. The value N represents the number of samples to be included in the training set based on the \\nspecified training size.\\n\\n#3 This line creates an array of indices for the training set. It uses np.arange(len(y)) to generate an array of \\nindices from 0 to the length of y, and then it applies the random permutation p to shuffle the indices. Finally, \\nit selects the first N indices using the slicing notation [:N], representing the indices for the training set.\\n\\n#4 This line prints the lengths of the IX_train and IX_test arrays, representing the number of samples in the \\ntraining and test sets, respectively.\\n\\nOverall, this code snippet generates a random permutation of indices, splits the data into training and test sets \\nbased on the specified train_size, and prints the lengths of the resulting sets. The IX_train and IX_test arrays \\ncan be used to index the X and y data to obtain the corresponding training and test data subsets.\\n\\n\\n'"
      ]
     },
     "execution_count": 22,
     "metadata": {},
     "output_type": "execute_result"
    }
   ],
   "source": [
    "''' \n",
    "\n",
    "#1 This line generates a random permutation of integers from 0 to the length of the array y. The permutation is \n",
    "created using the np.random.permutation() function from the NumPy library. This random permutation is typically \n",
    "used for shuffling the indices of the data to create a randomized order.\n",
    "\n",
    "#2 This line calculates the number of samples to be included in the training set. It multiplies the length of the \n",
    "array y by the train_size (variable) (which is set to 0.7 in this case) and converts the result to an integer using \n",
    "the int() function. The value N represents the number of samples to be included in the training set based on the \n",
    "specified training size.\n",
    "\n",
    "#3 This line creates an array of indices for the training set. It uses np.arange(len(y)) to generate an array of \n",
    "indices from 0 to the length of y, and then it applies the random permutation p to shuffle the indices. Finally, \n",
    "it selects the first N indices using the slicing notation [:N], representing the indices for the training set.\n",
    "\n",
    "#4 This line prints the lengths of the IX_train and IX_test arrays, representing the number of samples in the \n",
    "training and test sets, respectively.\n",
    "\n",
    "Overall, this code snippet generates a random permutation of indices, splits the data into training and test sets \n",
    "based on the specified train_size, and prints the lengths of the resulting sets. The IX_train and IX_test arrays \n",
    "can be used to index the X and y data to obtain the corresponding training and test data subsets.\n",
    "\n",
    "\n",
    "'''"
   ]
  },
  {
   "cell_type": "code",
   "execution_count": null,
   "id": "452fa605",
   "metadata": {},
   "outputs": [],
   "source": [
    "log_reg = LogisticRegression(penalty='l1', C = 0.1, solver = 'saga', max_iter=500) #1\n",
    "log_reg.fit(X[IX_train,:], y[IX_train])                                            #2\n",
    "\n",
    "y_pred = log_reg.predict(X[IX_test])                                               #3\n",
    "\n",
    "auc_score = roc_auc_score(y[IX_test], y_pred)                                      #4\n",
    "\n",
    "print(\"AUC Score: \", auc_score)                                                    #5\n",
    "weights_dict = {}                                                                  #6\n",
    "weights_dict['coef'] = log_reg.coef_                                               #7\n",
    "print('non-zero coeffs:', (log_reg.coef_ != 0 ).sum())                             #8"
   ]
  },
  {
   "cell_type": "code",
   "execution_count": null,
   "id": "d6e35de9",
   "metadata": {},
   "outputs": [],
   "source": [
    "'''\n",
    "#1 This line creates an instance of the logistic regression model using the LogisticRegression class from \n",
    "scikit-learn. The model is initialized with the specified parameters:\n",
    "\n",
    ". penalty='l1' sets the penalty to L1 regularization, which promotes sparsity in the model's coefficients.\n",
    ". C=0.1 is the inverse of the regularization strength. Smaller values of C increase the regularization, \n",
    "  helping to prevent overfitting.\n",
    ". solver='saga' selects the 'saga' solver, which is suitable for L1 penalty and supports both binary and \n",
    "  multiclass problems.\n",
    ". max_iter=500 sets the maximum number of iterations for the solver.\n",
    "\n",
    "#2 This line fits the logistic regression model to the training data. The fit() method takes the features X \n",
    "indexed by IX_train and the corresponding labels y indexed by IX_train. It trains the model by finding the optimal \n",
    "coefficients that minimize the logistic loss function.\n",
    "\n",
    "#3 This line predicts the labels for the test data using the trained logistic regression model. The predict() \n",
    "method takes the features X indexed by IX_test and returns the predicted labels.\n",
    "\n",
    "#4 This line calculates the area under the receiver operating characteristic curve (AUC) as a performance metric\n",
    "for the model. The roc_auc_score() function from scikit-learn is used, taking the true labels y indexed by IX_test \n",
    "and the predicted labels y_pred as inputs.\n",
    "\n",
    "#5 This line prints the AUC score, representing the performance of the logistic regression model on the test data.\n",
    "\n",
    "#6 This code creates a dictionary weights_dict and assigns the coefficients of the logistic regression model to \n",
    "the 'coef' key in the dictionary. The coefficients represent the weights assigned to each feature in the logistic\n",
    "regression model.\n",
    "\n",
    "#7 This line prints the number of non-zero coefficients in the logistic regression model. It calculates the sum of \n",
    "boolean values (log_reg.coef_ != 0) which evaluates to True for non-zero coefficients and False for zero coefficients. The resulting sum represents the count of non-zero coefficients.\n",
    "\n",
    "Overall, this code trains a logistic regression model, predicts labels for the test data, evaluates the model's performance using the AUC score, and prints the AUC score as well as\n",
    "the number of non-zero coefficients in the model.\n",
    "\n",
    "'''"
   ]
  },
  {
   "cell_type": "code",
   "execution_count": null,
   "id": "b4b531bd",
   "metadata": {},
   "outputs": [],
   "source": []
  }
 ],
 "metadata": {
  "kernelspec": {
   "display_name": "Python 3 (ipykernel)",
   "language": "python",
   "name": "python3"
  },
  "language_info": {
   "codemirror_mode": {
    "name": "ipython",
    "version": 3
   },
   "file_extension": ".py",
   "mimetype": "text/x-python",
   "name": "python",
   "nbconvert_exporter": "python",
   "pygments_lexer": "ipython3",
   "version": "3.10.9"
  }
 },
 "nbformat": 4,
 "nbformat_minor": 5
}
